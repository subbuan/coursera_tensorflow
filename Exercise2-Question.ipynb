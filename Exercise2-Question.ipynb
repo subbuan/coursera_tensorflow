{
 "cells": [
  {
   "cell_type": "markdown",
   "metadata": {
    "colab_type": "text",
    "id": "tOoyQ70H00_s"
   },
   "source": [
    "## Exercise 2\n",
    "In the course you learned how to do classificaiton using Fashion MNIST, a data set containing items of clothing. There's another, similar dataset called MNIST which has items of handwriting -- the digits 0 through 9.\n",
    "\n",
    "Write an MNIST classifier that trains to 99% accuracy or above, and does it without a fixed number of epochs -- i.e. you should stop training once you reach that level of accuracy.\n",
    "\n",
    "Some notes:\n",
    "1. It should succeed in less than 10 epochs, so it is okay to change epochs= to 10, but nothing larger\n",
    "2. When it reaches 99% or greater it should print out the string \"Reached 99% accuracy so cancelling training!\"\n",
    "3. If you add any additional variables, make sure you use the same names as the ones used in the class\n",
    "\n",
    "I've started the code for you below -- how would you finish it? "
   ]
  },
  {
   "cell_type": "code",
   "execution_count": 2,
   "metadata": {},
   "outputs": [],
   "source": [
    "import tensorflow as tf\n",
    "from os import path, getcwd, chdir\n",
    "\n",
    "# DO NOT CHANGE THE LINE BELOW. If you are developing in a local\n",
    "# environment, then grab mnist.npz from the Coursera Jupyter Notebook\n",
    "# and place it inside a local folder and edit the path to that location\n",
    "path = f\"{getcwd()}/../tmp2/mnist.npz\""
   ]
  },
  {
   "cell_type": "code",
   "execution_count": 12,
   "metadata": {
    "colab": {},
    "colab_type": "code",
    "id": "9rvXQGAA0ssC"
   },
   "outputs": [
    {
     "name": "stdout",
     "output_type": "stream",
     "text": [
      "(60000, 28, 28)\n",
      "Epoch 1/10\n",
      "59520/60000 [============================>.] - ETA: 0s - loss: 0.2051 - acc: 0.9405\n",
      "\n",
      "{'loss': 0.20451493917206923, 'acc': 0.94065}\n",
      "logs_accu 0.94065\n",
      "60000/60000 [==============================] - 10s 170us/sample - loss: 0.2045 - acc: 0.9406\n",
      "Epoch 2/10\n",
      "59936/60000 [============================>.] - ETA: 0s - loss: 0.0807 - acc: 0.9753\n",
      "\n",
      "{'loss': 0.0807545122695466, 'acc': 0.9753}\n",
      "logs_accu 0.9753\n",
      "60000/60000 [==============================] - 11s 177us/sample - loss: 0.0808 - acc: 0.9753\n",
      "Epoch 3/10\n",
      "59872/60000 [============================>.] - ETA: 0s - loss: 0.0522 - acc: 0.9835\n",
      "\n",
      "{'loss': 0.05216292355684563, 'acc': 0.9835}\n",
      "logs_accu 0.9835\n",
      "60000/60000 [==============================] - 12s 200us/sample - loss: 0.0522 - acc: 0.9835\n",
      "Epoch 4/10\n",
      "59584/60000 [============================>.] - ETA: 0s - loss: 0.0362 - acc: 0.9885\n",
      "\n",
      "{'loss': 0.03621462739394046, 'acc': 0.98845}\n",
      "logs_accu 0.98845\n",
      "60000/60000 [==============================] - 11s 180us/sample - loss: 0.0362 - acc: 0.9884\n",
      "Epoch 5/10\n",
      "59840/60000 [============================>.] - ETA: 0s - loss: 0.0271 - acc: 0.9915\n",
      "\n",
      "{'loss': 0.027137098522251473, 'acc': 0.99148333}\n",
      "logs_accu 0.99148333\n",
      "\n",
      "Reached 99% accuracy so cancelling training!\n",
      "60000/60000 [==============================] - 10s 170us/sample - loss: 0.0271 - acc: 0.9915\n"
     ]
    },
    {
     "data": {
      "text/plain": [
       "([0, 1, 2, 3, 4], 0.99148333)"
      ]
     },
     "execution_count": 12,
     "metadata": {},
     "output_type": "execute_result"
    }
   ],
   "source": [
    "# GRADED FUNCTION: train_mnist\n",
    "def train_mnist():\n",
    "    # Please write your code only where you are indicated.\n",
    "    # please do not remove # model fitting inline comments.\n",
    "\n",
    "    # YOUR CODE SHOULD START HERE\n",
    "    class myCallback(tf.keras.callbacks.Callback):\n",
    "        def on_epoch_end(self, epoch, logs={}):\n",
    "            print('\\n')\n",
    "            print(logs)\n",
    "            print('logs_accu',logs.get('acc'))\n",
    "            if(logs.get('acc')>0.99):\n",
    "                print(\"\\nReached 99% accuracy so cancelling training!\")\n",
    "                self.model.stop_training = True\n",
    "\n",
    "    # YOUR CODE SHOULD END HERE\n",
    "\n",
    "    mnist = tf.keras.datasets.mnist\n",
    "\n",
    "    (x_train, y_train),(x_test, y_test) = mnist.load_data(path=path)\n",
    "    print(x_train.shape)\n",
    "    # YOUR CODE SHOULD START HERE\n",
    "    x_train, x_test = x_train / 255.0, x_test / 255.0\n",
    "\n",
    "    callbacks = myCallback()\n",
    "\n",
    "    # YOUR CODE SHOULD END HERE\n",
    "    model = tf.keras.models.Sequential([\n",
    "        # YOUR CODE SHOULD START HERE\n",
    "        tf.keras.layers.Flatten(input_shape=(28, 28)),\n",
    "        tf.keras.layers.Dense(512, activation=tf.nn.relu),\n",
    "        tf.keras.layers.Dense(10, activation=tf.nn.softmax)\n",
    "    \n",
    "        # YOUR CODE SHOULD END HERE\n",
    "    ])\n",
    "\n",
    "    model.compile(optimizer='adam',\n",
    "                  loss='sparse_categorical_crossentropy',\n",
    "                  metrics=['accuracy'])\n",
    "    \n",
    "    # model fitting\n",
    "    history = model.fit(# YOUR CODE SHOULD START HERE \n",
    "        x_train, y_train, epochs=10, callbacks=[callbacks]\n",
    "              # YOUR CODE SHOULD END HERE\n",
    "    )\n",
    "    # model fitting\n",
    "    return history.epoch, history.history['acc'][-1]\n",
    "\n",
    "train_mnist()"
   ]
  },
  {
   "cell_type": "code",
   "execution_count": 13,
   "metadata": {
    "colab": {},
    "colab_type": "code",
    "id": "9rvXQGAA0ssC"
   },
   "outputs": [
    {
     "name": "stdout",
     "output_type": "stream",
     "text": [
      "(60000, 28, 28)\n",
      "Epoch 1/10\n",
      "59680/60000 [============================>.] - ETA: 0s - loss: 0.2028 - acc: 0.9408- ETA: 5s - los\n",
      "\n",
      "{'loss': 0.202129361294955, 'acc': 0.94091666}\n",
      "logs_accu 0.94091666\n",
      "60000/60000 [==============================] - 10s 175us/sample - loss: 0.2021 - acc: 0.9409\n",
      "Epoch 2/10\n",
      "59552/60000 [============================>.] - ETA: 0s - loss: 0.0829 - acc: 0.9743\n",
      "\n",
      "{'loss': 0.082756660912248, 'acc': 0.97433335}\n",
      "logs_accu 0.97433335\n",
      "60000/60000 [==============================] - 12s 193us/sample - loss: 0.0828 - acc: 0.9743\n",
      "Epoch 3/10\n",
      "59936/60000 [============================>.] - ETA: 0s - loss: 0.0525 - acc: 0.9830\n",
      "\n",
      "{'loss': 0.052524885105295106, 'acc': 0.98295}\n",
      "logs_accu 0.98295\n",
      "60000/60000 [==============================] - 12s 196us/sample - loss: 0.0525 - acc: 0.9829\n",
      "Epoch 4/10\n",
      "59872/60000 [============================>.] - ETA: 0s - loss: 0.0375 - acc: 0.9877\n",
      "\n",
      "{'loss': 0.03769153249210989, 'acc': 0.98766667}\n",
      "logs_accu 0.98766667\n",
      "60000/60000 [==============================] - 13s 223us/sample - loss: 0.0377 - acc: 0.9877\n",
      "Epoch 5/10\n",
      "59520/60000 [============================>.] - ETA: 0s - loss: 0.0272 - acc: 0.9915\n",
      "\n",
      "{'loss': 0.027195653044494488, 'acc': 0.9915}\n",
      "logs_accu 0.9915\n",
      "\n",
      "Reached 99% accuracy so cancelling training!\n",
      "60000/60000 [==============================] - 12s 199us/sample - loss: 0.0272 - acc: 0.9915\n"
     ]
    },
    {
     "data": {
      "text/plain": [
       "([0, 1, 2, 3, 4], 0.9915)"
      ]
     },
     "execution_count": 13,
     "metadata": {},
     "output_type": "execute_result"
    }
   ],
   "source": [
    "train_mnist()"
   ]
  },
  {
   "cell_type": "code",
   "execution_count": 4,
   "metadata": {},
   "outputs": [],
   "source": [
    "# Now click the 'Submit Assignment' button above.\n",
    "# Once that is complete, please run the following two cells to save your work and close the notebook"
   ]
  },
  {
   "cell_type": "code",
   "execution_count": 14,
   "metadata": {},
   "outputs": [
    {
     "data": {
      "application/javascript": [
       "<!-- Save the notebook -->\n",
       "IPython.notebook.save_checkpoint();\n"
      ],
      "text/plain": [
       "<IPython.core.display.Javascript object>"
      ]
     },
     "metadata": {},
     "output_type": "display_data"
    }
   ],
   "source": [
    "%%javascript\n",
    "<!-- Save the notebook -->\n",
    "IPython.notebook.save_checkpoint();"
   ]
  },
  {
   "cell_type": "code",
   "execution_count": null,
   "metadata": {},
   "outputs": [
    {
     "data": {
      "application/javascript": [
       "IPython.notebook.session.delete();\n",
       "window.onbeforeunload = null\n",
       "setTimeout(function() { window.close(); }, 1000);\n"
      ],
      "text/plain": [
       "<IPython.core.display.Javascript object>"
      ]
     },
     "metadata": {},
     "output_type": "display_data"
    }
   ],
   "source": [
    "%%javascript\n",
    "IPython.notebook.session.delete();\n",
    "window.onbeforeunload = null\n",
    "setTimeout(function() { window.close(); }, 1000);"
   ]
  },
  {
   "cell_type": "code",
   "execution_count": null,
   "metadata": {},
   "outputs": [],
   "source": []
  }
 ],
 "metadata": {
  "coursera": {
   "course_slug": "introduction-tensorflow",
   "graded_item_id": "d6dew",
   "launcher_item_id": "FExZ4"
  },
  "kernelspec": {
   "display_name": "Python 3",
   "language": "python",
   "name": "python3"
  },
  "language_info": {
   "codemirror_mode": {
    "name": "ipython",
    "version": 3
   },
   "file_extension": ".py",
   "mimetype": "text/x-python",
   "name": "python",
   "nbconvert_exporter": "python",
   "pygments_lexer": "ipython3",
   "version": "3.6.8"
  }
 },
 "nbformat": 4,
 "nbformat_minor": 1
}
