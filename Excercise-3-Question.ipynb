{
 "cells": [
  {
   "cell_type": "markdown",
   "metadata": {
    "colab_type": "text",
    "id": "iQjHqsmTAVLU"
   },
   "source": [
    "## Exercise 3\n",
    "In the videos you looked at how you would improve Fashion MNIST using Convolutions. For your exercise see if you can improve MNIST to 99.8% accuracy or more using only a single convolutional layer and a single MaxPooling 2D. You should stop training once the accuracy goes above this amount. It should happen in less than 20 epochs, so it's ok to hard code the number of epochs for training, but your training must end once it hits the above metric. If it doesn't, then you'll need to redesign your layers.\n",
    "\n",
    "I've started the code for you -- you need to finish it!\n",
    "\n",
    "When 99.8% accuracy has been hit, you should print out the string \"Reached 99.8% accuracy so cancelling training!\"\n"
   ]
  },
  {
   "cell_type": "code",
   "execution_count": 1,
   "metadata": {},
   "outputs": [],
   "source": [
    "import tensorflow as tf\n",
    "from os import path, getcwd, chdir\n",
    "\n",
    "# DO NOT CHANGE THE LINE BELOW. If you are developing in a local\n",
    "# environment, then grab mnist.npz from the Coursera Jupyter Notebook\n",
    "# and place it inside a local folder and edit the path to that location\n",
    "path = f\"{getcwd()}/../tmp2/mnist.npz\""
   ]
  },
  {
   "cell_type": "code",
   "execution_count": 2,
   "metadata": {},
   "outputs": [],
   "source": [
    "config = tf.ConfigProto()\n",
    "config.gpu_options.allow_growth = True\n",
    "sess = tf.Session(config=config)"
   ]
  },
  {
   "cell_type": "code",
   "execution_count": 5,
   "metadata": {},
   "outputs": [],
   "source": [
    "# GRADED FUNCTION: train_mnist_conv\n",
    "def train_mnist_conv():\n",
    "    # Please write your code only where you are indicated.\n",
    "    # please do not remove model fitting inline comments.\n",
    "\n",
    "    # YOUR CODE STARTS HERE\n",
    "    class myCallback(tf.keras.callbacks.Callback):\n",
    "        def on_epoch_end(self, epoch, logs={}):\n",
    "            print('\\n')\n",
    "            print(logs)\n",
    "            print('logs_accu',logs.get('acc'))\n",
    "            if(logs.get('acc')>0.998):\n",
    "                print(\"\\nReached 99.8% accuracy so cancelling training!\")\n",
    "                self.model.stop_training = True    \n",
    "    # YOUR CODE ENDS HERE\n",
    "\n",
    "    mnist = tf.keras.datasets.mnist\n",
    "    (training_images, training_labels), (test_images, test_labels) = mnist.load_data(path=path)\n",
    "    # YOUR CODE STARTS HERE\n",
    "    callbacks = myCallback()\n",
    "    \n",
    "    training_images=training_images.reshape(60000, 28, 28, 1)\n",
    "    training_images=training_images / 255.0\n",
    "    test_images = test_images.reshape(10000, 28, 28, 1)\n",
    "    test_images=test_images/255.0\n",
    "\n",
    "    # YOUR CODE ENDS HERE\n",
    "\n",
    "    model = tf.keras.models.Sequential([\n",
    "            # YOUR CODE STARTS HERE\n",
    "            # Try to simplify the architecture as much as possible. You can reach the target accuracy\n",
    "            # with just a single convolution and max pooling followed by the usual flatten and dense layers.\n",
    "            # If you get grader timeouts in your submission, try to minimize the number of convolution filters \n",
    "            # and dense units.\n",
    "            tf.keras.layers.Conv2D(32, (3,3), activation='relu', input_shape=(28, 28, 1)),\n",
    "            tf.keras.layers.MaxPooling2D(2, 2),\n",
    "            tf.keras.layers.Flatten(),\n",
    "            tf.keras.layers.Dense(128, activation='relu'),\n",
    "            tf.keras.layers.Dense(10, activation='softmax')\n",
    "\n",
    "            # YOUR CODE ENDS HERE\n",
    "    ])\n",
    "\n",
    "    model.compile(optimizer='adam', loss='sparse_categorical_crossentropy', metrics=['accuracy'])\n",
    "    # model fitting\n",
    "    history = model.fit(\n",
    "        # YOUR CODE STARTS HERE\n",
    "        # Remember to set a callback function to stop the training when the target accuracy is reached. \n",
    "        # It should be met in less than 20 epochs.\n",
    "        training_images, training_labels, epochs=20, callbacks=[callbacks]\n",
    "\n",
    "        # YOUR CODE ENDS HERE\n",
    "    )\n",
    "    # model fitting\n",
    "    return history.epoch, history.history['acc'][-1]\n",
    "\n"
   ]
  },
  {
   "cell_type": "code",
   "execution_count": 6,
   "metadata": {},
   "outputs": [
    {
     "name": "stdout",
     "output_type": "stream",
     "text": [
      "Epoch 1/20\n",
      "59744/60000 [============================>.] - ETA: 0s - loss: 0.1531 - acc: 0.9541\n",
      "\n",
      "{'loss': 0.15268361633593838, 'acc': 0.95426667}\n",
      "logs_accu 0.95426667\n",
      "60000/60000 [==============================] - 13s 215us/sample - loss: 0.1527 - acc: 0.9543\n",
      "Epoch 2/20\n",
      "59648/60000 [============================>.] - ETA: 0s - loss: 0.0515 - acc: 0.9849\n",
      "\n",
      "{'loss': 0.05136962606301531, 'acc': 0.9849167}\n",
      "logs_accu 0.9849167\n",
      "60000/60000 [==============================] - 12s 198us/sample - loss: 0.0514 - acc: 0.9849\n",
      "Epoch 3/20\n",
      "59712/60000 [============================>.] - ETA: 0s - loss: 0.0325 - acc: 0.9899\n",
      "\n",
      "{'loss': 0.032469370007918524, 'acc': 0.9899167}\n",
      "logs_accu 0.9899167\n",
      "60000/60000 [==============================] - 12s 197us/sample - loss: 0.0325 - acc: 0.9899\n",
      "Epoch 4/20\n",
      "59968/60000 [============================>.] - ETA: 0s - loss: 0.0232 - acc: 0.9926\n",
      "\n",
      "{'loss': 0.023228025366323225, 'acc': 0.99261665}\n",
      "logs_accu 0.99261665\n",
      "60000/60000 [==============================] - 12s 193us/sample - loss: 0.0232 - acc: 0.9926\n",
      "Epoch 5/20\n",
      "59904/60000 [============================>.] - ETA: 0s - loss: 0.0141 - acc: 0.9958\n",
      "\n",
      "{'loss': 0.014135331137015601, 'acc': 0.9957833}\n",
      "logs_accu 0.9957833\n",
      "60000/60000 [==============================] - 11s 187us/sample - loss: 0.0141 - acc: 0.9958\n",
      "Epoch 6/20\n",
      "59648/60000 [============================>.] - ETA: 0s - loss: 0.0102 - acc: 0.9967\n",
      "\n",
      "{'loss': 0.010186933344657154, 'acc': 0.9967167}\n",
      "logs_accu 0.9967167\n",
      "60000/60000 [==============================] - 11s 180us/sample - loss: 0.0102 - acc: 0.9967\n",
      "Epoch 7/20\n",
      "59584/60000 [============================>.] - ETA: 0s - loss: 0.0086 - acc: 0.9970\n",
      "\n",
      "{'loss': 0.008584960980192895, 'acc': 0.99696666}\n",
      "logs_accu 0.99696666\n",
      "60000/60000 [==============================] - 12s 193us/sample - loss: 0.0086 - acc: 0.9970\n",
      "Epoch 8/20\n",
      "59872/60000 [============================>.] - ETA: 0s - loss: 0.0062 - acc: 0.9979\n",
      "\n",
      "{'loss': 0.006225949581814894, 'acc': 0.9978833}\n",
      "logs_accu 0.9978833\n",
      "60000/60000 [==============================] - 11s 178us/sample - loss: 0.0062 - acc: 0.9979\n",
      "Epoch 9/20\n",
      "59968/60000 [============================>.] - ETA: 0s - loss: 0.0054 - acc: 0.9982\n",
      "\n",
      "{'loss': 0.005446736005219816, 'acc': 0.9982333}\n",
      "logs_accu 0.9982333\n",
      "\n",
      "Reached 99.8% accuracy so cancelling training!\n",
      "60000/60000 [==============================] - 10s 172us/sample - loss: 0.0054 - acc: 0.9982\n"
     ]
    }
   ],
   "source": [
    "_, _ = train_mnist_conv()"
   ]
  },
  {
   "cell_type": "code",
   "execution_count": null,
   "metadata": {},
   "outputs": [],
   "source": [
    "# Now click the 'Submit Assignment' button above.\n",
    "# Once that is complete, please run the following two cells to save your work and close the notebook"
   ]
  },
  {
   "cell_type": "code",
   "execution_count": null,
   "metadata": {},
   "outputs": [],
   "source": [
    "%%javascript\n",
    "<!-- Save the notebook -->\n",
    "IPython.notebook.save_checkpoint();"
   ]
  },
  {
   "cell_type": "code",
   "execution_count": null,
   "metadata": {},
   "outputs": [],
   "source": [
    "%%javascript\n",
    "IPython.notebook.session.delete();\n",
    "window.onbeforeunload = null\n",
    "setTimeout(function() { window.close(); }, 1000);"
   ]
  }
 ],
 "metadata": {
  "coursera": {
   "course_slug": "introduction-tensorflow",
   "graded_item_id": "ml06H",
   "launcher_item_id": "hQF8A"
  },
  "kernelspec": {
   "display_name": "Python 3",
   "language": "python",
   "name": "python3"
  },
  "language_info": {
   "codemirror_mode": {
    "name": "ipython",
    "version": 3
   },
   "file_extension": ".py",
   "mimetype": "text/x-python",
   "name": "python",
   "nbconvert_exporter": "python",
   "pygments_lexer": "ipython3",
   "version": "3.6.8"
  }
 },
 "nbformat": 4,
 "nbformat_minor": 1
}
